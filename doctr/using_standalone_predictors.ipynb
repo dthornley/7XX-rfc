{
  "cells": [
    {
      "cell_type": "markdown",
      "metadata": {
        "id": "view-in-github",
        "colab_type": "text"
      },
      "source": [
        "<a href=\"https://colab.research.google.com/github/dthornley/7XX-rfc/blob/master/doctr/using_standalone_predictors.ipynb\" target=\"_parent\"><img src=\"https://colab.research.google.com/assets/colab-badge.svg\" alt=\"Open In Colab\"/></a>"
      ]
    },
    {
      "cell_type": "markdown",
      "metadata": {
        "id": "s-75rJZasyjG"
      },
      "source": [
        "# Using docTR's standalone predictors\n",
        "\n",
        "docTR’s `ocr_predictor` acts as a modular wrapper for its individual prediction models.\n",
        "This notebook shows how to work with these models independently, which can be helpful if you don't need all the features of the `ocr_predictor`.\n",
        "For instance, you might want to pair docTR's `detection_predictor` with a different recognition model.\n"
      ]
    },
    {
      "cell_type": "code",
      "execution_count": 1,
      "metadata": {
        "collapsed": true,
        "id": "LH5a8koqsyjI",
        "outputId": "265a9aa1-af3a-4be3-cf27-2999d90eb145",
        "colab": {
          "base_uri": "https://localhost:8080/"
        }
      },
      "outputs": [
        {
          "output_type": "stream",
          "name": "stdout",
          "text": [
            "Found existing installation: tensorflow 2.17.1\n",
            "Uninstalling tensorflow-2.17.1:\n",
            "  Successfully uninstalled tensorflow-2.17.1\n",
            "Collecting python-doctr@ git+https://github.com/mindee/doctr.git (from python-doctr[torch,viz]@ git+https://github.com/mindee/doctr.git)\n",
            "  Cloning https://github.com/mindee/doctr.git to /tmp/pip-install-gez_wkdx/python-doctr_0677faa317e143c19db5e033671ece78\n",
            "  Running command git clone --filter=blob:none --quiet https://github.com/mindee/doctr.git /tmp/pip-install-gez_wkdx/python-doctr_0677faa317e143c19db5e033671ece78\n",
            "  Resolved https://github.com/mindee/doctr.git to commit 13893ec5808cfc9b6431d4879d4a3688464256ba\n",
            "  Installing build dependencies ... \u001b[?25l\u001b[?25hdone\n",
            "  Getting requirements to build wheel ... \u001b[?25l\u001b[?25hdone\n",
            "  Preparing metadata (pyproject.toml) ... \u001b[?25l\u001b[?25hdone\n",
            "Requirement already satisfied: numpy<3.0.0,>=1.16.0 in /usr/local/lib/python3.10/dist-packages (from python-doctr@ git+https://github.com/mindee/doctr.git->python-doctr[torch,viz]@ git+https://github.com/mindee/doctr.git) (1.26.4)\n",
            "Requirement already satisfied: scipy<2.0.0,>=1.4.0 in /usr/local/lib/python3.10/dist-packages (from python-doctr@ git+https://github.com/mindee/doctr.git->python-doctr[torch,viz]@ git+https://github.com/mindee/doctr.git) (1.13.1)\n",
            "Requirement already satisfied: h5py<4.0.0,>=3.1.0 in /usr/local/lib/python3.10/dist-packages (from python-doctr@ git+https://github.com/mindee/doctr.git->python-doctr[torch,viz]@ git+https://github.com/mindee/doctr.git) (3.12.1)\n",
            "Requirement already satisfied: opencv-python<5.0.0,>=4.5.0 in /usr/local/lib/python3.10/dist-packages (from python-doctr@ git+https://github.com/mindee/doctr.git->python-doctr[torch,viz]@ git+https://github.com/mindee/doctr.git) (4.10.0.84)\n",
            "Collecting pypdfium2<5.0.0,>=4.11.0 (from python-doctr@ git+https://github.com/mindee/doctr.git->python-doctr[torch,viz]@ git+https://github.com/mindee/doctr.git)\n",
            "  Downloading pypdfium2-4.30.0-py3-none-manylinux_2_17_x86_64.manylinux2014_x86_64.whl.metadata (48 kB)\n",
            "\u001b[2K     \u001b[90m━━━━━━━━━━━━━━━━━━━━━━━━━━━━━━━━━━━━━━━━\u001b[0m \u001b[32m48.5/48.5 kB\u001b[0m \u001b[31m3.1 MB/s\u001b[0m eta \u001b[36m0:00:00\u001b[0m\n",
            "\u001b[?25hCollecting pyclipper<2.0.0,>=1.2.0 (from python-doctr@ git+https://github.com/mindee/doctr.git->python-doctr[torch,viz]@ git+https://github.com/mindee/doctr.git)\n",
            "  Downloading pyclipper-1.3.0.post6-cp310-cp310-manylinux_2_12_x86_64.manylinux2010_x86_64.whl.metadata (9.0 kB)\n",
            "Requirement already satisfied: shapely<3.0.0,>=1.6.0 in /usr/local/lib/python3.10/dist-packages (from python-doctr@ git+https://github.com/mindee/doctr.git->python-doctr[torch,viz]@ git+https://github.com/mindee/doctr.git) (2.0.6)\n",
            "Collecting langdetect<2.0.0,>=1.0.9 (from python-doctr@ git+https://github.com/mindee/doctr.git->python-doctr[torch,viz]@ git+https://github.com/mindee/doctr.git)\n",
            "  Downloading langdetect-1.0.9.tar.gz (981 kB)\n",
            "\u001b[2K     \u001b[90m━━━━━━━━━━━━━━━━━━━━━━━━━━━━━━━━━━━━━━━━\u001b[0m \u001b[32m981.5/981.5 kB\u001b[0m \u001b[31m24.5 MB/s\u001b[0m eta \u001b[36m0:00:00\u001b[0m\n",
            "\u001b[?25h  Preparing metadata (setup.py) ... \u001b[?25l\u001b[?25hdone\n",
            "Collecting rapidfuzz<4.0.0,>=3.0.0 (from python-doctr@ git+https://github.com/mindee/doctr.git->python-doctr[torch,viz]@ git+https://github.com/mindee/doctr.git)\n",
            "  Downloading rapidfuzz-3.10.1-cp310-cp310-manylinux_2_17_x86_64.manylinux2014_x86_64.whl.metadata (11 kB)\n",
            "Requirement already satisfied: huggingface-hub<1.0.0,>=0.20.0 in /usr/local/lib/python3.10/dist-packages (from python-doctr@ git+https://github.com/mindee/doctr.git->python-doctr[torch,viz]@ git+https://github.com/mindee/doctr.git) (0.26.3)\n",
            "Requirement already satisfied: Pillow>=9.2.0 in /usr/local/lib/python3.10/dist-packages (from python-doctr@ git+https://github.com/mindee/doctr.git->python-doctr[torch,viz]@ git+https://github.com/mindee/doctr.git) (11.0.0)\n",
            "Requirement already satisfied: defusedxml>=0.7.0 in /usr/local/lib/python3.10/dist-packages (from python-doctr@ git+https://github.com/mindee/doctr.git->python-doctr[torch,viz]@ git+https://github.com/mindee/doctr.git) (0.7.1)\n",
            "Collecting anyascii>=0.3.2 (from python-doctr@ git+https://github.com/mindee/doctr.git->python-doctr[torch,viz]@ git+https://github.com/mindee/doctr.git)\n",
            "  Downloading anyascii-0.3.2-py3-none-any.whl.metadata (1.5 kB)\n",
            "Requirement already satisfied: tqdm>=4.30.0 in /usr/local/lib/python3.10/dist-packages (from python-doctr@ git+https://github.com/mindee/doctr.git->python-doctr[torch,viz]@ git+https://github.com/mindee/doctr.git) (4.66.6)\n",
            "Requirement already satisfied: torch<3.0.0,>=2.0.0 in /usr/local/lib/python3.10/dist-packages (from python-doctr@ git+https://github.com/mindee/doctr.git->python-doctr[torch,viz]@ git+https://github.com/mindee/doctr.git) (2.5.1+cu121)\n",
            "Requirement already satisfied: torchvision>=0.15.0 in /usr/local/lib/python3.10/dist-packages (from python-doctr@ git+https://github.com/mindee/doctr.git->python-doctr[torch,viz]@ git+https://github.com/mindee/doctr.git) (0.20.1+cu121)\n",
            "Collecting onnx<3.0.0,>=1.12.0 (from python-doctr@ git+https://github.com/mindee/doctr.git->python-doctr[torch,viz]@ git+https://github.com/mindee/doctr.git)\n",
            "  Downloading onnx-1.17.0-cp310-cp310-manylinux_2_17_x86_64.manylinux2014_x86_64.whl.metadata (16 kB)\n",
            "Requirement already satisfied: matplotlib>=3.1.0 in /usr/local/lib/python3.10/dist-packages (from python-doctr@ git+https://github.com/mindee/doctr.git->python-doctr[torch,viz]@ git+https://github.com/mindee/doctr.git) (3.8.0)\n",
            "Collecting mplcursors>=0.3 (from python-doctr@ git+https://github.com/mindee/doctr.git->python-doctr[torch,viz]@ git+https://github.com/mindee/doctr.git)\n",
            "  Downloading mplcursors-0.6-py3-none-any.whl.metadata (3.0 kB)\n",
            "Requirement already satisfied: filelock in /usr/local/lib/python3.10/dist-packages (from huggingface-hub<1.0.0,>=0.20.0->python-doctr@ git+https://github.com/mindee/doctr.git->python-doctr[torch,viz]@ git+https://github.com/mindee/doctr.git) (3.16.1)\n",
            "Requirement already satisfied: fsspec>=2023.5.0 in /usr/local/lib/python3.10/dist-packages (from huggingface-hub<1.0.0,>=0.20.0->python-doctr@ git+https://github.com/mindee/doctr.git->python-doctr[torch,viz]@ git+https://github.com/mindee/doctr.git) (2024.10.0)\n",
            "Requirement already satisfied: packaging>=20.9 in /usr/local/lib/python3.10/dist-packages (from huggingface-hub<1.0.0,>=0.20.0->python-doctr@ git+https://github.com/mindee/doctr.git->python-doctr[torch,viz]@ git+https://github.com/mindee/doctr.git) (24.2)\n",
            "Requirement already satisfied: pyyaml>=5.1 in /usr/local/lib/python3.10/dist-packages (from huggingface-hub<1.0.0,>=0.20.0->python-doctr@ git+https://github.com/mindee/doctr.git->python-doctr[torch,viz]@ git+https://github.com/mindee/doctr.git) (6.0.2)\n",
            "Requirement already satisfied: requests in /usr/local/lib/python3.10/dist-packages (from huggingface-hub<1.0.0,>=0.20.0->python-doctr@ git+https://github.com/mindee/doctr.git->python-doctr[torch,viz]@ git+https://github.com/mindee/doctr.git) (2.32.3)\n",
            "Requirement already satisfied: typing-extensions>=3.7.4.3 in /usr/local/lib/python3.10/dist-packages (from huggingface-hub<1.0.0,>=0.20.0->python-doctr@ git+https://github.com/mindee/doctr.git->python-doctr[torch,viz]@ git+https://github.com/mindee/doctr.git) (4.12.2)\n",
            "Requirement already satisfied: six in /usr/local/lib/python3.10/dist-packages (from langdetect<2.0.0,>=1.0.9->python-doctr@ git+https://github.com/mindee/doctr.git->python-doctr[torch,viz]@ git+https://github.com/mindee/doctr.git) (1.16.0)\n",
            "Requirement already satisfied: contourpy>=1.0.1 in /usr/local/lib/python3.10/dist-packages (from matplotlib>=3.1.0->python-doctr@ git+https://github.com/mindee/doctr.git->python-doctr[torch,viz]@ git+https://github.com/mindee/doctr.git) (1.3.1)\n",
            "Requirement already satisfied: cycler>=0.10 in /usr/local/lib/python3.10/dist-packages (from matplotlib>=3.1.0->python-doctr@ git+https://github.com/mindee/doctr.git->python-doctr[torch,viz]@ git+https://github.com/mindee/doctr.git) (0.12.1)\n",
            "Requirement already satisfied: fonttools>=4.22.0 in /usr/local/lib/python3.10/dist-packages (from matplotlib>=3.1.0->python-doctr@ git+https://github.com/mindee/doctr.git->python-doctr[torch,viz]@ git+https://github.com/mindee/doctr.git) (4.55.1)\n",
            "Requirement already satisfied: kiwisolver>=1.0.1 in /usr/local/lib/python3.10/dist-packages (from matplotlib>=3.1.0->python-doctr@ git+https://github.com/mindee/doctr.git->python-doctr[torch,viz]@ git+https://github.com/mindee/doctr.git) (1.4.7)\n",
            "Requirement already satisfied: pyparsing>=2.3.1 in /usr/local/lib/python3.10/dist-packages (from matplotlib>=3.1.0->python-doctr@ git+https://github.com/mindee/doctr.git->python-doctr[torch,viz]@ git+https://github.com/mindee/doctr.git) (3.2.0)\n",
            "Requirement already satisfied: python-dateutil>=2.7 in /usr/local/lib/python3.10/dist-packages (from matplotlib>=3.1.0->python-doctr@ git+https://github.com/mindee/doctr.git->python-doctr[torch,viz]@ git+https://github.com/mindee/doctr.git) (2.8.2)\n",
            "Requirement already satisfied: protobuf>=3.20.2 in /usr/local/lib/python3.10/dist-packages (from onnx<3.0.0,>=1.12.0->python-doctr@ git+https://github.com/mindee/doctr.git->python-doctr[torch,viz]@ git+https://github.com/mindee/doctr.git) (4.25.5)\n",
            "Requirement already satisfied: networkx in /usr/local/lib/python3.10/dist-packages (from torch<3.0.0,>=2.0.0->python-doctr@ git+https://github.com/mindee/doctr.git->python-doctr[torch,viz]@ git+https://github.com/mindee/doctr.git) (3.4.2)\n",
            "Requirement already satisfied: jinja2 in /usr/local/lib/python3.10/dist-packages (from torch<3.0.0,>=2.0.0->python-doctr@ git+https://github.com/mindee/doctr.git->python-doctr[torch,viz]@ git+https://github.com/mindee/doctr.git) (3.1.4)\n",
            "Requirement already satisfied: sympy==1.13.1 in /usr/local/lib/python3.10/dist-packages (from torch<3.0.0,>=2.0.0->python-doctr@ git+https://github.com/mindee/doctr.git->python-doctr[torch,viz]@ git+https://github.com/mindee/doctr.git) (1.13.1)\n",
            "Requirement already satisfied: mpmath<1.4,>=1.1.0 in /usr/local/lib/python3.10/dist-packages (from sympy==1.13.1->torch<3.0.0,>=2.0.0->python-doctr@ git+https://github.com/mindee/doctr.git->python-doctr[torch,viz]@ git+https://github.com/mindee/doctr.git) (1.3.0)\n",
            "Requirement already satisfied: MarkupSafe>=2.0 in /usr/local/lib/python3.10/dist-packages (from jinja2->torch<3.0.0,>=2.0.0->python-doctr@ git+https://github.com/mindee/doctr.git->python-doctr[torch,viz]@ git+https://github.com/mindee/doctr.git) (3.0.2)\n",
            "Requirement already satisfied: charset-normalizer<4,>=2 in /usr/local/lib/python3.10/dist-packages (from requests->huggingface-hub<1.0.0,>=0.20.0->python-doctr@ git+https://github.com/mindee/doctr.git->python-doctr[torch,viz]@ git+https://github.com/mindee/doctr.git) (3.4.0)\n",
            "Requirement already satisfied: idna<4,>=2.5 in /usr/local/lib/python3.10/dist-packages (from requests->huggingface-hub<1.0.0,>=0.20.0->python-doctr@ git+https://github.com/mindee/doctr.git->python-doctr[torch,viz]@ git+https://github.com/mindee/doctr.git) (3.10)\n",
            "Requirement already satisfied: urllib3<3,>=1.21.1 in /usr/local/lib/python3.10/dist-packages (from requests->huggingface-hub<1.0.0,>=0.20.0->python-doctr@ git+https://github.com/mindee/doctr.git->python-doctr[torch,viz]@ git+https://github.com/mindee/doctr.git) (2.2.3)\n",
            "Requirement already satisfied: certifi>=2017.4.17 in /usr/local/lib/python3.10/dist-packages (from requests->huggingface-hub<1.0.0,>=0.20.0->python-doctr@ git+https://github.com/mindee/doctr.git->python-doctr[torch,viz]@ git+https://github.com/mindee/doctr.git) (2024.8.30)\n",
            "Downloading anyascii-0.3.2-py3-none-any.whl (289 kB)\n",
            "\u001b[2K   \u001b[90m━━━━━━━━━━━━━━━━━━━━━━━━━━━━━━━━━━━━━━━━\u001b[0m \u001b[32m289.9/289.9 kB\u001b[0m \u001b[31m23.0 MB/s\u001b[0m eta \u001b[36m0:00:00\u001b[0m\n",
            "\u001b[?25hDownloading mplcursors-0.6-py3-none-any.whl (20 kB)\n",
            "Downloading onnx-1.17.0-cp310-cp310-manylinux_2_17_x86_64.manylinux2014_x86_64.whl (16.0 MB)\n",
            "\u001b[2K   \u001b[90m━━━━━━━━━━━━━━━━━━━━━━━━━━━━━━━━━━━━━━━━\u001b[0m \u001b[32m16.0/16.0 MB\u001b[0m \u001b[31m61.6 MB/s\u001b[0m eta \u001b[36m0:00:00\u001b[0m\n",
            "\u001b[?25hDownloading pyclipper-1.3.0.post6-cp310-cp310-manylinux_2_12_x86_64.manylinux2010_x86_64.whl (912 kB)\n",
            "\u001b[2K   \u001b[90m━━━━━━━━━━━━━━━━━━━━━━━━━━━━━━━━━━━━━━━━\u001b[0m \u001b[32m912.2/912.2 kB\u001b[0m \u001b[31m43.0 MB/s\u001b[0m eta \u001b[36m0:00:00\u001b[0m\n",
            "\u001b[?25hDownloading pypdfium2-4.30.0-py3-none-manylinux_2_17_x86_64.manylinux2014_x86_64.whl (2.8 MB)\n",
            "\u001b[2K   \u001b[90m━━━━━━━━━━━━━━━━━━━━━━━━━━━━━━━━━━━━━━━━\u001b[0m \u001b[32m2.8/2.8 MB\u001b[0m \u001b[31m68.8 MB/s\u001b[0m eta \u001b[36m0:00:00\u001b[0m\n",
            "\u001b[?25hDownloading rapidfuzz-3.10.1-cp310-cp310-manylinux_2_17_x86_64.manylinux2014_x86_64.whl (3.1 MB)\n",
            "\u001b[2K   \u001b[90m━━━━━━━━━━━━━━━━━━━━━━━━━━━━━━━━━━━━━━━━\u001b[0m \u001b[32m3.1/3.1 MB\u001b[0m \u001b[31m69.5 MB/s\u001b[0m eta \u001b[36m0:00:00\u001b[0m\n",
            "\u001b[?25hBuilding wheels for collected packages: python-doctr, langdetect\n",
            "  Building wheel for python-doctr (pyproject.toml) ... \u001b[?25l\u001b[?25hdone\n",
            "  Created wheel for python-doctr: filename=python_doctr-0.10.1a0-py3-none-any.whl size=303413 sha256=2d29cc7cab7a26c99bcd87b516b451065bcb531819dfe30602bf79fde526b984\n",
            "  Stored in directory: /tmp/pip-ephem-wheel-cache-k0qnvn_6/wheels/1e/6c/6b/37a5d1591cd372f8244089332dcb4ea90096822d6f76103b21\n",
            "  Building wheel for langdetect (setup.py) ... \u001b[?25l\u001b[?25hdone\n",
            "  Created wheel for langdetect: filename=langdetect-1.0.9-py3-none-any.whl size=993222 sha256=e7567beed42574ab49dbb6c8b0905dc1e401f2a25c9c014893f0f62856d7e976\n",
            "  Stored in directory: /root/.cache/pip/wheels/95/03/7d/59ea870c70ce4e5a370638b5462a7711ab78fba2f655d05106\n",
            "Successfully built python-doctr langdetect\n",
            "Installing collected packages: pyclipper, rapidfuzz, pypdfium2, onnx, langdetect, anyascii, python-doctr, mplcursors\n",
            "Successfully installed anyascii-0.3.2 langdetect-1.0.9 mplcursors-0.6 onnx-1.17.0 pyclipper-1.3.0.post6 pypdfium2-4.30.0 python-doctr-0.10.1a0 rapidfuzz-3.10.1\n"
          ]
        }
      ],
      "source": [
        "# First we have to uninstall the preinstalled tensorflow version if we want to work with PyTorch as backend\n",
        "# because the env variables USE_TORCH=1 / USE_TF=1 doesn't have an effect in Colab\n",
        "!pip uninstall -y tensorflow\n",
        "# Install doctr\n",
        "#!pip install python-doctr[torch,viz]\n",
        "# From source\n",
        "!pip install python-doctr[torch,viz]@git+https://github.com/mindee/doctr.git"
      ]
    },
    {
      "cell_type": "code",
      "execution_count": null,
      "metadata": {
        "id": "RI0SCGXTsyjK"
      },
      "outputs": [],
      "source": [
        "# Imports\n",
        "import requests\n",
        "import numpy as np\n",
        "from matplotlib import pyplot as plt\n",
        "import cv2\n",
        "\n",
        "from doctr.models import detection_predictor, recognition_predictor, page_orientation_predictor, crop_orientation_predictor\n",
        "from doctr.io import DocumentFile\n",
        "from doctr.utils.geometry import detach_scores"
      ]
    },
    {
      "cell_type": "code",
      "execution_count": null,
      "metadata": {
        "id": "riI2cFwRsyjK"
      },
      "outputs": [],
      "source": [
        "# Define sample image urls\n",
        "\n",
        "# Image of receipt\n",
        "receipt = requests.get(\"https://github.com/mindee/doctr/releases/download/v0.3.0/mock_receipt.jpeg\").content\n",
        "receipt_image = cv2.imdecode(np.frombuffer(receipt, np.uint8), cv2.IMREAD_COLOR)\n",
        "\n",
        "# Image of a word crop\n",
        "word_crop = requests.get(\"https://github.com/mindee/doctr/releases/download/v0.5.1/word-crop.png\").content\n",
        "word_crop_image = cv2.imdecode(np.frombuffer(word_crop, np.uint8), cv2.IMREAD_COLOR)"
      ]
    },
    {
      "cell_type": "markdown",
      "metadata": {
        "id": "S9mSG_bGsyjK"
      },
      "source": [
        "## Detection predictor\n",
        "\n",
        "The detection predictor can be used to detect text in an image."
      ]
    },
    {
      "cell_type": "code",
      "execution_count": null,
      "metadata": {
        "id": "PvY10EFJsyjL"
      },
      "outputs": [],
      "source": [
        "# Helper function to convert relative coordinates to absolute pixel values\n",
        "def _to_absolute(geom, img_shape: tuple[int, int]) -> list[list[int]]:\n",
        "    h, w = img_shape\n",
        "    if len(geom) == 2:  # Assume straight pages = True -> [[xmin, ymin], [xmax, ymax]]\n",
        "        (xmin, ymin), (xmax, ymax) = geom\n",
        "        xmin, xmax = int(round(w * xmin)), int(round(w * xmax))\n",
        "        ymin, ymax = int(round(h * ymin)), int(round(h * ymax))\n",
        "        return [[xmin, ymin], [xmax, ymin], [xmax, ymax], [xmin, ymax]]\n",
        "    else:  # For polygons, convert each point to absolute coordinates\n",
        "        return [[int(point[0] * w), int(point[1] * h)] for point in geom]\n",
        "\n",
        "# Define the detection predictor\n",
        "det_predictor = detection_predictor(\n",
        "    arch=\"db_resnet50\",\n",
        "    pretrained=True,\n",
        "    assume_straight_pages=True,\n",
        "    symmetric_pad=True,\n",
        "    preserve_aspect_ratio=True,\n",
        "    batch_size=1,\n",
        ")  # .cuda().half()  # Uncomment this line if you have a GPU\n",
        "\n",
        "# Define the postprocessing parameters (optional)\n",
        "det_predictor.model.postprocessor.bin_thresh = 0.3\n",
        "det_predictor.model.postprocessor.box_thresh = 0.1\n",
        "\n",
        "# Load the document image\n",
        "docs = DocumentFile.from_images([receipt])\n",
        "results = det_predictor(docs)\n",
        "\n",
        "for doc, res in zip(docs, results):\n",
        "    img_shape = (doc.shape[0], doc.shape[1])\n",
        "    # Detach the probability scores from the results\n",
        "    detached_coords, prob_scores = detach_scores([res.get(\"words\")])\n",
        "\n",
        "    for i, coords in enumerate(detached_coords[0]):\n",
        "        coords = coords.reshape(2, 2).tolist() if coords.shape == (4,) else coords.tolist()\n",
        "\n",
        "        # Convert relative to absolute pixel coordinates\n",
        "        points = np.array(_to_absolute(coords, img_shape), dtype=np.int32).reshape((-1, 1, 2))\n",
        "\n",
        "        # Draw the bounding box on the image\n",
        "        cv2.polylines(receipt_image, [points], isClosed=True, color=(255, 0, 0), thickness=2)\n",
        "\n",
        "%matplotlib inline\n",
        "plt.imshow(cv2.cvtColor(receipt_image, cv2.COLOR_BGR2RGB)); plt.axis('off'); plt.show()"
      ]
    },
    {
      "cell_type": "markdown",
      "metadata": {
        "id": "QXNJNmlosyjL"
      },
      "source": [
        "## Recognition predictor\n",
        "\n",
        "The recognition predictor is used to recognize text from pre-cropped word images."
      ]
    },
    {
      "cell_type": "code",
      "execution_count": null,
      "metadata": {
        "id": "7-uEr62MsyjL"
      },
      "outputs": [],
      "source": [
        "\n",
        "# Load the word crop image\n",
        "doc = DocumentFile.from_images([word_crop])\n",
        "# Define the recognition predictor\n",
        "rec_predictor = recognition_predictor(arch=\"parseq\", pretrained=True, symmetric_pad=True, batch_size=1)  # .cuda().half()  # Uncomment this line if you have a GPU\n",
        "result = rec_predictor(doc)\n",
        "\n",
        "%matplotlib inline\n",
        "plt.imshow(cv2.cvtColor(word_crop_image, cv2.COLOR_BGR2RGB)); plt.axis('off'); plt.show()\n",
        "print(f\"Recognized text: {result[0][0]} \\nwith confidence: {result[0][1]:.2f}\")\n",
        "\n"
      ]
    },
    {
      "cell_type": "markdown",
      "metadata": {
        "id": "AsXdh-NCsyjL"
      },
      "source": [
        "## Orientation predictors\n",
        "\n",
        "The orientation predictors can detect the **overall** orientation of a document image or word crop.\n",
        "They return the general orientation —[0, 90, 180, -90 (270)]— along with the corresponding confidence score."
      ]
    },
    {
      "cell_type": "code",
      "execution_count": null,
      "metadata": {
        "id": "YDL5ari7syjM"
      },
      "outputs": [],
      "source": [
        "\n",
        "docs = DocumentFile.from_images([receipt])\n",
        "page_orient_predictor = page_orientation_predictor(pretrained=True, batch_size=1)  # .cuda().half()  # Uncomment this line if you have a GPU\n",
        "result = page_orient_predictor(docs)\n",
        "print(f\"general page orientation: {result[1][0]} with confidence: {result[2][0]:.2f}\")\n",
        "\n",
        "crop = DocumentFile.from_images([word_crop])\n",
        "crop_orient_predictor = crop_orientation_predictor(pretrained=True, batch_size=1)  # .cuda().half()  # Uncomment this line if you have a GPU\n",
        "result = crop_orient_predictor(crop)\n",
        "print(f\"general crop orientation: {result[1][0]} with confidence: {result[2][0]:.2f}\")"
      ]
    }
  ],
  "metadata": {
    "colab": {
      "provenance": [],
      "include_colab_link": true
    },
    "kernelspec": {
      "display_name": "doctr-torch-notebooks",
      "language": "python",
      "name": "python3"
    },
    "language_info": {
      "codemirror_mode": {
        "name": "ipython",
        "version": 3
      },
      "file_extension": ".py",
      "mimetype": "text/x-python",
      "name": "python",
      "nbconvert_exporter": "python",
      "pygments_lexer": "ipython3",
      "version": "3.10.15"
    }
  },
  "nbformat": 4,
  "nbformat_minor": 0
}